{
 "cells": [
  {
   "cell_type": "markdown",
   "metadata": {},
   "source": [
    "# Projets : Analysons des factures d'énergie 🌠🌠\n",
    "\n",
    "## Analysons des factures d'énergie 🌠🌠\n",
    "### 1. Introduction\n",
    "\n",
    "Un des cas d'usage fréquents de l'analyse de données est ce qu'on appelle la détection d'anomalies. Il s'agit en fait de checker, à travers des gros jeux de donnnées, s'il n'y a pas des éléments de la chaîne de production qui dysfonctionnent.\n",
    "\n",
    "Le contrôle de la facturation est un cas d'école intéressant. Comme la consommation d'énergie n'est pas facilement interprétable par un humain, il peut être utile de vérifier les factures émises par les fournisseurs d'énergie afin de repérer d'éventuelles erreurs et, le cas échéant, permettre à l'entreprise d'économiser de l'argent 💰💰\n",
    "\n",
    "### 2. Le projet\n",
    "\n",
    "### 2.1. La mission\n",
    "\n",
    "L'opérateur de télécommunications national en Slovaquie fait appel à vous pour contrôler ses factures d'électricité. Il vous explique que les réseaux mobiles (et plus directement, les antennes) sont très consommateurs d'énergie. C'est pourquoi, en tant qu'opérateur, il doit dépenser chaque année de très fortes sommes dans l'électricité.\n",
    "\n",
    "En revanche, il a le sentiment (et certains de ses salariés lui ont confirmé cela) qu'il y a des erreurs dans les factures et que certaines sommes ne sont pas justifiées. Mais il y a un nombre de factures colossal et son service de comptabilité n'a pas les compétences nécessaires pour traiter autant de données.\n",
    "\n",
    "Il vous demande donc de récupérer ici le fichier qui regroupe toutes les factures pour l'ensemble des antennes de l'opérateur. Et de le nettoyer pour que les équipes terrain puissent l'utiliser régulièrement, dès qu'un besoin de vérification sera remonté.\n",
    "\n",
    "Finalement, ton objectif est de transformer le fichier qu'a récupéré la direction en un fichier exploitable. Pour les équipes de comptabilité, \"exploitable\" signifie qu'ils n'ont qu'à rechercher le nom d'une antenne en particulier, et ils peuvent obtenir l'historique de sa consommation d'énergie pour vérifier s'il y a des anomalies. Pour que cet historique soit intéressant, ils ont besoin d'avoir la consommation moyenne journalière (comme ça par ex, ils peuvent comparer un mois de Février qui fait 28 jours avec un mois de janvier qui fait 31 jours, sans se dire que la diminution vient de la différence de jours dans un mois).\n",
    "\n",
    "### 2.2. Les tâches\n",
    "\n",
    "1) Le nom d'une antenne a un format bien précis : il est toujours composé de 4 chiffres et de deux lettres. On te demande de retirer tout autre caractère de la colonne \"SITE_NAME\".\n",
    "\n",
    "2) On te demande de supprimer la colonne \"INVOICE_NAME\" qui n'apporte rien aux équipes.\n",
    "\n",
    "3) Il y a des antennes pour lesquelles on a des factures mensuelles tandis que pour d'autres, on les reçoit moins régulièrement (trimestre, semestre, année). Ajoute une colonne à ton tableau qui calcule le nombre de jours entre le début de la période de facturation et la fin de la période de facturation.\n",
    "\n",
    "4) A partir de cette nouvelle colonne, crée une autre colonne qui nous donne la consommation journalière moyenne de la période.\n",
    "\n",
    "5) Merci d'ajouter également une colonne qui donne, pour chaque antenne, le nombre de factures dont on dispose au total. Pas grave si l'information se répète à chaque ligne pour une même antenne.\n",
    "\n",
    "6) Et information bonus si tu y arrives : les équipes aimeraient beaucoup avoir une liste de toutes les antennes avec, pour chaque antenne, le coefficient de variation de la consommation. Cela permettra d'avoir une idée, pour chaque antenne, de la dispersion de sa consommation d'énergie.\n",
    "\n",
    "7) Enfin, tu dois exporter ces deux fichiers obtenus pour pouvoir l'envoyer aux équipes de l'opérateur et leur demander si c'est bien cela qu'ils attendaient de toi.\n",
    "\n",
    "3. Rendu attendu\n",
    "\n",
    "    Un fichier .ipynb qui contient l'ensemble de tes analyses.\n",
    "    Le fichier csv final, beaucoup plus clean et exploitable par les équipes de comptabilité. Et si tu as réussi cette étape, l'autre fichier csv qui donne la liste des coefficients de variation.\n",
    "\n"
   ]
  },
  {
   "cell_type": "code",
   "execution_count": 16,
   "metadata": {},
   "outputs": [],
   "source": [
    "import re\n",
    "import pandas as pd\n",
    "import numpy as np\n",
    "import csv"
   ]
  },
  {
   "cell_type": "code",
   "execution_count": 10,
   "metadata": {},
   "outputs": [],
   "source": [
    "# \"|\" en \";\"\n",
    "with open('Projet_1/Invoice_20201220.csv', 'r') as file:\n",
    "    file_csv = file.read().replace('|', ';')\n",
    "    with open('Projet_1/Invoice_20201220_v1.csv', 'w') as f:\n",
    "        f.write(file_csv)"
   ]
  },
  {
   "cell_type": "markdown",
   "metadata": {},
   "source": [
    "1) Le nom d'une antenne a un format bien précis : il est toujours composé de 4 chiffres et de deux lettres. On te demande de retirer tout autre caractère de la colonne \"SITE_NAME\"."
   ]
  },
  {
   "cell_type": "code",
   "execution_count": 43,
   "metadata": {},
   "outputs": [
    {
     "name": "stdout",
     "output_type": "stream",
     "text": [
      "0        0001BB\n",
      "1        0001BB\n",
      "2        0001BB\n",
      "3        0001BB\n",
      "4        0001BB\n",
      "          ...  \n",
      "51427    0632KO\n",
      "51428    0632KO\n",
      "51429    0632KO\n",
      "51430    0632KO\n",
      "51431    1203KO\n",
      "Name: SITE_NAME, Length: 51432, dtype: object\n"
     ]
    }
   ],
   "source": [
    "def df_clean_col_site_name(name):\n",
    "        # une string en array\n",
    "        name = str(name).split(\" \")\n",
    "        # là on ne prend que (1563BB)\n",
    "        name = name[1]\n",
    "        # puis on retire autour toute parenthèse\n",
    "        name = re.sub(\"[()]\", \"\", name)\n",
    "        return name\n",
    "\n",
    "with open('Projet_1/Invoice_20201220_v1.csv', 'r') as file:\n",
    "    df = pd.read_csv(file, sep=';')\n",
    "    # modifier 'SITE_NAME' avec fonction df_clean_col_site_name pour chaque valeur\n",
    "    df['SITE_NAME'] = df['SITE_NAME'].apply(df_clean_col_site_name)\n",
    "    print(df['SITE_NAME'])"
   ]
  },
  {
   "cell_type": "markdown",
   "metadata": {},
   "source": [
    "2) On te demande de supprimer la colonne \"INVOICE_NAME\" qui n'apporte rien aux équipes."
   ]
  },
  {
   "cell_type": "code",
   "execution_count": 44,
   "metadata": {},
   "outputs": [
    {
     "name": "stdout",
     "output_type": "stream",
     "text": [
      "      SITE_NAME   INVOICE_NAME       BEGIN         END KWH_PERIOD PERIOD_EUR\n",
      "0        0001BB     1300082549  01/01/2018  31/01/2018      2 447     316,46\n",
      "1        0001BB     1300082549  01/02/2018  28/02/2018      2 211     286,82\n",
      "2        0001BB     1300082549  01/03/2018  31/03/2018      2 450     317,32\n",
      "3        0001BB     1300082549  01/04/2018  30/04/2018      2 431     315,00\n",
      "4        0001BB     1300082549  01/05/2018  31/05/2018      2 574     333,37\n",
      "...         ...            ...         ...         ...        ...        ...\n",
      "51427    0632KO  FV1/055100030  30/08/2019  31/12/2019      3 028     397,18\n",
      "51428    0632KO      055100058  01/01/2020  31/03/2020      2 163     283,57\n",
      "51429    0632KO      055100113  01/04/2020  30/06/2020      2 160     312,55\n",
      "51430    0632KO      055100168  01/07/2020  30/09/2020      2 230     294,07\n",
      "51431    1203KO     7220278453  27/09/2019  31/12/2019      4 745     681,96\n",
      "\n",
      "[51432 rows x 6 columns]\n",
      "      SITE_NAME       BEGIN         END KWH_PERIOD PERIOD_EUR\n",
      "0        0001BB  01/01/2018  31/01/2018      2 447     316,46\n",
      "1        0001BB  01/02/2018  28/02/2018      2 211     286,82\n",
      "2        0001BB  01/03/2018  31/03/2018      2 450     317,32\n",
      "3        0001BB  01/04/2018  30/04/2018      2 431     315,00\n",
      "4        0001BB  01/05/2018  31/05/2018      2 574     333,37\n",
      "...         ...         ...         ...        ...        ...\n",
      "51427    0632KO  30/08/2019  31/12/2019      3 028     397,18\n",
      "51428    0632KO  01/01/2020  31/03/2020      2 163     283,57\n",
      "51429    0632KO  01/04/2020  30/06/2020      2 160     312,55\n",
      "51430    0632KO  01/07/2020  30/09/2020      2 230     294,07\n",
      "51431    1203KO  27/09/2019  31/12/2019      4 745     681,96\n",
      "\n",
      "[51432 rows x 5 columns]\n"
     ]
    }
   ],
   "source": [
    "remove_col = ['INVOICE_NAME']\n",
    "df.drop(remove_col, axis=1, inplace= True)\n",
    "print(df)"
   ]
  },
  {
   "cell_type": "markdown",
   "metadata": {},
   "source": [
    "3) Il y a des antennes pour lesquelles on a des factures mensuelles tandis que pour d'autres, on les reçoit moins régulièrement (trimestre, semestre, année). Ajoute une colonne à ton tableau qui calcule le nombre de jours entre le début de la période de facturation et la fin de la période de facturation."
   ]
  },
  {
   "cell_type": "code",
   "execution_count": 78,
   "metadata": {},
   "outputs": [
    {
     "name": "stdout",
     "output_type": "stream",
     "text": [
      "            BEGIN         END  DAYS\n",
      "0      01/01/2018  31/01/2018    30\n",
      "1      01/02/2018  28/02/2018    27\n",
      "2      01/03/2018  31/03/2018    30\n",
      "3      01/04/2018  30/04/2018    29\n",
      "4      01/05/2018  31/05/2018    30\n",
      "...           ...         ...   ...\n",
      "51427  30/08/2019  31/12/2019   123\n",
      "51428  01/01/2020  31/03/2020    90\n",
      "51429  01/04/2020  30/06/2020    90\n",
      "51430  01/07/2020  30/09/2020    91\n",
      "51431  27/09/2019  31/12/2019    95\n",
      "\n",
      "[51432 rows x 3 columns]\n"
     ]
    }
   ],
   "source": [
    "from dateutil.parser import parse\n",
    "from datetime import datetime\n",
    "from datetime import date\n",
    "\n",
    "def change_str_date(beg ,end):\n",
    "    in_date_beg = datetime.strptime(beg, '%d/%m/%Y')\n",
    "    in_date_end = datetime.strptime(end, '%d/%m/%Y')\n",
    "    number = in_date_end - in_date_beg\n",
    "    return(number.days)\n",
    "\n",
    "df_period = df.loc[:, ('BEGIN', 'END')]\n",
    "\n",
    "df_period['DAYS'] = df_period.apply(lambda x: change_str_date(x.BEGIN, x.END), axis=1)\n",
    "print(df_period)"
   ]
  },
  {
   "cell_type": "markdown",
   "metadata": {},
   "source": [
    "4) A partir de cette nouvelle colonne, crée une autre colonne qui nous donne la consommation journalière moyenne de la période."
   ]
  },
  {
   "cell_type": "code",
   "execution_count": 86,
   "metadata": {},
   "outputs": [
    {
     "name": "stdout",
     "output_type": "stream",
     "text": [
      "            BEGIN         END  DAYS  KWH_PERIOD  PERIOD_CONS\n",
      "0      01/01/2018  31/01/2018    30        2447    81.566667\n",
      "1      01/02/2018  28/02/2018    27        2211    81.888889\n",
      "2      01/03/2018  31/03/2018    30        2450    81.666667\n",
      "3      01/04/2018  30/04/2018    29        2431    83.827586\n",
      "4      01/05/2018  31/05/2018    30        2574    85.800000\n",
      "...           ...         ...   ...         ...          ...\n",
      "51427  30/08/2019  31/12/2019   123        3028    24.617886\n",
      "51428  01/01/2020  31/03/2020    90        2163    24.033333\n",
      "51429  01/04/2020  30/06/2020    90        2160    24.000000\n",
      "51430  01/07/2020  30/09/2020    91        2230    24.505495\n",
      "51431  27/09/2019  31/12/2019    95        4745    49.947368\n",
      "\n",
      "[51432 rows x 5 columns]\n",
      "            BEGIN         END  DAYS  KWH_PERIOD  PERIOD_CONS\n",
      "0      01/01/2018  31/01/2018    30        2447    81.566667\n",
      "1      01/02/2018  28/02/2018    27        2211    81.888889\n",
      "2      01/03/2018  31/03/2018    30        2450    81.666667\n",
      "3      01/04/2018  30/04/2018    29        2431    83.827586\n",
      "4      01/05/2018  31/05/2018    30        2574    85.800000\n",
      "...           ...         ...   ...         ...          ...\n",
      "51427  30/08/2019  31/12/2019   123        3028    24.617886\n",
      "51428  01/01/2020  31/03/2020    90        2163    24.033333\n",
      "51429  01/04/2020  30/06/2020    90        2160    24.000000\n",
      "51430  01/07/2020  30/09/2020    91        2230    24.505495\n",
      "51431  27/09/2019  31/12/2019    95        4745    49.947368\n",
      "\n",
      "[51432 rows x 5 columns]\n",
      "            BEGIN         END  DAYS  KWH_PERIOD  PERIOD_CONS\n",
      "5267   01/01/2020  31/01/2020    30           0          0.0\n",
      "5817   01/04/2019  30/06/2019    90           0          0.0\n",
      "7671   01/01/2020  31/01/2020    30           0          0.0\n",
      "10642  01/01/2018  12/03/2018    70           0          0.0\n",
      "11187  01/01/2020  31/03/2020    90           0          0.0\n",
      "...           ...         ...   ...         ...          ...\n",
      "49371  01/01/2018  31/12/2018   364           0          0.0\n",
      "49372  01/01/2019  31/12/2019   364           0          0.0\n",
      "51387  01/01/2018  31/12/2018   364           0          0.0\n",
      "51391  16/01/2019  31/01/2019    15           0          0.0\n",
      "51392  01/02/2019  28/02/2019    27           0          0.0\n",
      "\n",
      "[61 rows x 5 columns]\n"
     ]
    }
   ],
   "source": [
    "def period_mean(days, kwh):\n",
    "    if int(days) != 0:\n",
    "        mean = int(kwh) / int(days)\n",
    "    else:\n",
    "        mean = 0\n",
    "    return mean\n",
    "\n",
    "df_period['KWH_PERIOD'] = df['KWH_PERIOD'].str.replace(\" \", \"\").astype(int)\n",
    "print(df_period)\n",
    "\n",
    "\n",
    "df_period['PERIOD_CONS'] = df_period.apply(lambda x: period_mean(x.DAYS, x.KWH_PERIOD), axis=1)\n",
    "\n",
    "print(df_period)\n",
    "\n"
   ]
  },
  {
   "cell_type": "code",
   "execution_count": 89,
   "metadata": {},
   "outputs": [
    {
     "name": "stdout",
     "output_type": "stream",
     "text": [
      "            BEGIN         END  DAYS  KWH_PERIOD  PERIOD_CONS\n",
      "12117  01/09/2020  01/09/2020     0        1903          0.0\n",
      "48646  01/01/2020  01/01/2020     0        1163          0.0\n"
     ]
    }
   ],
   "source": [
    "print(df_period.loc[(df_period['PERIOD_CONS'] == 0) & (df_period['DAYS'] == 0 )])"
   ]
  },
  {
   "cell_type": "markdown",
   "metadata": {},
   "source": [
    "5) Merci d'ajouter également une colonne qui donne, pour chaque antenne, le nombre de factures dont on dispose au total. Pas grave si l'information se répète à chaque ligne pour une même antenne."
   ]
  },
  {
   "cell_type": "code",
   "execution_count": 99,
   "metadata": {},
   "outputs": [
    {
     "name": "stdout",
     "output_type": "stream",
     "text": [
      "      SITE_NAME       BEGIN         END KWH_PERIOD PERIOD_EUR      period  \\\n",
      "0        0001BB  01/01/2018  31/01/2018      2 447     316,46  31/01/2018   \n",
      "1        0001BB  01/02/2018  28/02/2018      2 211     286,82  28/02/2018   \n",
      "2        0001BB  01/03/2018  31/03/2018      2 450     317,32  31/03/2018   \n",
      "3        0001BB  01/04/2018  30/04/2018      2 431     315,00  30/04/2018   \n",
      "4        0001BB  01/05/2018  31/05/2018      2 574     333,37  31/05/2018   \n",
      "...         ...         ...         ...        ...        ...         ...   \n",
      "51427    0632KO  30/08/2019  31/12/2019      3 028     397,18  31/12/2019   \n",
      "51428    0632KO  01/01/2020  31/03/2020      2 163     283,57  31/03/2020   \n",
      "51429    0632KO  01/04/2020  30/06/2020      2 160     312,55  30/06/2020   \n",
      "51430    0632KO  01/07/2020  30/09/2020      2 230     294,07  30/09/2020   \n",
      "51431    1203KO  27/09/2019  31/12/2019      4 745     681,96  31/12/2019   \n",
      "\n",
      "       FACT_NBR  \n",
      "0            35  \n",
      "1            35  \n",
      "2            35  \n",
      "3            35  \n",
      "4            35  \n",
      "...         ...  \n",
      "51427         4  \n",
      "51428         4  \n",
      "51429         4  \n",
      "51430         4  \n",
      "51431         1  \n",
      "\n",
      "[51432 rows x 7 columns]\n"
     ]
    }
   ],
   "source": [
    "df['FACT_NBR'] = df.groupby('SITE_NAME')['SITE_NAME'].transform('count')\n",
    "print(df)"
   ]
  },
  {
   "cell_type": "markdown",
   "metadata": {},
   "source": [
    "6) Et information bonus si tu y arrives : les équipes aimeraient beaucoup avoir une liste de toutes les antennes avec, pour chaque antenne, le coefficient de variation de la consommation. Cela permettra d'avoir une idée, pour chaque antenne, de la dispersion de sa consommation d'énergie."
   ]
  },
  {
   "cell_type": "code",
   "execution_count": null,
   "metadata": {},
   "outputs": [],
   "source": []
  },
  {
   "cell_type": "markdown",
   "metadata": {},
   "source": [
    "7) Enfin, tu dois exporter ces deux fichiers obtenus pour pouvoir l'envoyer aux équipes de l'opérateur et leur demander si c'est bien cela qu'ils attendaient de toi."
   ]
  },
  {
   "cell_type": "code",
   "execution_count": null,
   "metadata": {},
   "outputs": [],
   "source": [
    "# DataFrame convertie\n",
    "dt.to_csv(\"Invoice_20201220_end.csv\", index=False)"
   ]
  },
  {
   "cell_type": "markdown",
   "metadata": {},
   "source": [
    "# Analysons la qualité de l'air 💨💨\n",
    "\n",
    "## Analysons la qualité de l'air 💨💨\n",
    "\n",
    "### 1. Introduction\n",
    "\n",
    "Après ta mission chez l'opérateur de télécoms, tu as voulu changer d'univers et rejoindre le monde des ONGs. Tu as trouvé un poste chez OpenAQ, une organisation à but non lucratif qui permet aux communautés du monde entier de purifier leur air en harmonisant, en partageant et en utilisant des données ouvertes sur la qualité de l'air.\n",
    "\n",
    "Ils te préviennent tout de suite que l'enjeu principal n'est pas forcément de collecter les données mais surtout de réussir à les harmoniser. C'est en mettant l'ensemble des données collectées au même format qu'on peut ensuite réaliser des comparaisons intéressantes 🌎\n",
    "\n",
    "### 2. Le projet\n",
    "\n",
    "OpenAQ souhaiterait mettre en ligne sur son site un fichier qui permet de comparer des mesures de l'air récentes, relevées sur un jour donné, partout dans le monde. Pour cela, on te demande de nettoyer les données dont on dispose pour l'instant.\n",
    "\n",
    "Tu as reçu un mail de ton manager qui te dit : \"Télécharge le jeu de données disponible sur la plateforme Opendatasoft (ici si le lien n'est plus à jour). Et renvoie-moi d'ici la fin de la journée un fichier csv qui ne comporte aucune erreur, ni information non exploitable. Merci et bon courage.\"\n",
    "\n",
    "Comme le message est un peu lapidaire, on va te donner quelques informations supplémentaires. Regarde sur l'onglet Informations du jeu de données, deux disclaimers sont énoncés :\n",
    "\n",
    "- Some records contain encoding issues on specific characters; those issues are present in the raw API data and were not corrected.\n",
    "- Some dates are set in the future: those issues also come from the original data and were not corrected 🥴\n",
    "\n",
    "Cela te donne une idée de ce qu'il va falloir nettoyer en premier lieu !\n",
    "\n",
    "Si tu souhaites plus de précision dans les consignes, voici les étapes qu'on te conseille de suivre pour arriver à tes fins :\n",
    "\n",
    "1 - Supprimer les données qui ne concernent pas la journée du 06-08-2021.\n",
    "2 - Supprimer les données qui sont illisibles et pour lesquelles on ne comprend pas la ville concernée.\n",
    "3 - Pour chaque polluant, vérifier qu'on n'a qu'une seule mesure utilisée. Autrement, supprimer les données qui correspondent à la mesure minoritaire ou moins cohérente.\n",
    "4 - Regarder s'il y a des valeurs aberrantes ou des problèmes par rapport à notre objectif final (pouvoir comparer des mesures sur un maximum de pays) et noter ces aspects dans un fichier texte.\n",
    "\n",
    "### 3. Rendu attendu\n",
    "\n",
    "- Le fichier csv qui ne comporte aucune erreur ni information non exploitable.\n",
    "- Un fichier txt qui précise les limites du fichier final."
   ]
  },
  {
   "cell_type": "code",
   "execution_count": 1,
   "metadata": {},
   "outputs": [],
   "source": [
    "import pandas as pd\n",
    "import numpy as np\n",
    "import csv"
   ]
  },
  {
   "cell_type": "code",
   "execution_count": 2,
   "metadata": {},
   "outputs": [
    {
     "name": "stdout",
     "output_type": "stream",
     "text": [
      "      Country Code                     City              Location  \\\n",
      "0               DE             Manfred Lotz  Cottbus, W.-Klz-Str.   \n",
      "1               ES         Castelln/Castell               ES1969A   \n",
      "2               ES         Valencia/Valncia               ES1885A   \n",
      "3               ES         Alicante/Alacant               ES2008A   \n",
      "4               ES         Alicante/Alacant               ES1968A   \n",
      "...            ...                      ...                   ...   \n",
      "40446           US               BERNALILLO     WESTSIDE - 9 Mile   \n",
      "40447           US                Asheville           Skyland DRR   \n",
      "40448           US              San Antonio  San Antonio IH35 C10   \n",
      "40449           US  Cleveland-Elyria-Mentor   Cleveland Near Road   \n",
      "40450           US  Seattle-Tacoma-Bellevue        Auburn M St SE   \n",
      "\n",
      "                     Coordinates Pollutant  Source Name Unit  Value  \\\n",
      "0             51.75413,14.325549     PM2.5  EEA Germany  g/m   21.7   \n",
      "1      39.8236111095,-0.24444444       NO2    EEA Spain  g/m    1.0   \n",
      "2      39.4802777695,-0.33638888       SO2    EEA Spain  g/m    5.0   \n",
      "3            37.9911111095,-0.69     PM2.5    EEA Spain  g/m    9.0   \n",
      "4      38.3511111095,-0.51388888      PM10    EEA Spain  g/m    1.0   \n",
      "...                          ...       ...          ...  ...    ...   \n",
      "40446      35.064098,-106.761292      PM10       AirNow  g/m   10.0   \n",
      "40447       35.481861,-82.509861       SO2       AirNow  ppm    0.0   \n",
      "40448          29.5294,-98.39139     PM2.5       AirNow  g/m    6.0   \n",
      "40449           41.4409,-81.4949     PM2.5       AirNow  g/m   15.3   \n",
      "40450          47.2875,-122.2144     PM2.5       AirNow  g/m    3.0   \n",
      "\n",
      "                    Last Updated  Country Label  \n",
      "0      2016-12-21T12:00:00+01:00        Germany  \n",
      "1      2021-07-13T08:00:00+02:00          Spain  \n",
      "2      2021-08-06T11:00:00+02:00          Spain  \n",
      "3      2021-08-06T11:00:00+02:00          Spain  \n",
      "4      2021-08-06T11:00:00+02:00          Spain  \n",
      "...                          ...            ...  \n",
      "40446  2020-07-17T14:00:00+02:00  United States  \n",
      "40447  2020-07-02T12:00:00+02:00  United States  \n",
      "40448  2020-06-26T01:00:00+02:00  United States  \n",
      "40449  2020-05-26T16:00:00+02:00  United States  \n",
      "40450  2020-04-07T18:00:00+02:00  United States  \n",
      "\n",
      "[40451 rows x 10 columns]\n"
     ]
    }
   ],
   "source": [
    "with open('Projet_2/openaq_1.csv', 'r', encoding='ascii', errors='ignore') as file:\n",
    "    df_air = pd.read_csv(file, sep=';')\n",
    "    print(df_air)"
   ]
  },
  {
   "cell_type": "markdown",
   "metadata": {},
   "source": [
    "1 - Supprimer les données qui ne concernent pas la journée du 06-08-2021."
   ]
  },
  {
   "cell_type": "code",
   "execution_count": 3,
   "metadata": {},
   "outputs": [
    {
     "name": "stdout",
     "output_type": "stream",
     "text": [
      "      Country Code              City                       Location  \\\n",
      "2               ES  Valencia/Valncia                        ES1885A   \n",
      "3               ES  Alicante/Alacant                        ES2008A   \n",
      "4               ES  Alicante/Alacant                        ES1968A   \n",
      "5               ES  Valencia/Valncia                        ES1911A   \n",
      "6               ES  Valencia/Valncia                        ES1185A   \n",
      "...            ...               ...                            ...   \n",
      "40408           TH           Bangkok              Din Dang, Bangkok   \n",
      "40409           TH      Samut Prakan        City Hall, Samut Prakan   \n",
      "40410           TH      Samut Prakan        City Hall, Samut Prakan   \n",
      "40411           TH      Chachoengsao  Municipality Office Tungsadao   \n",
      "40412           TH      Chachoengsao  Municipality Office Tungsadao   \n",
      "\n",
      "                     Coordinates Pollutant Source Name Unit    Value  \\\n",
      "2      39.4802777695,-0.33638888       SO2   EEA Spain  g/m    5.000   \n",
      "3            37.9911111095,-0.69     PM2.5   EEA Spain  g/m    9.000   \n",
      "4      38.3511111095,-0.51388888      PM10   EEA Spain  g/m    1.000   \n",
      "5      39.7052777695,-0.33666666        CO   EEA Spain  g/m  100.000   \n",
      "6      39.6672222195,-0.23472222      PM10   EEA Spain  g/m   13.000   \n",
      "...                          ...       ...         ...  ...      ...   \n",
      "40408      13.7619223,100.558606      PM10    Air4Thai  g/m   42.000   \n",
      "40409       13.599149,100.597345       SO2    Air4Thai  ppm    0.000   \n",
      "40410       13.599149,100.597345       NO2    Air4Thai  ppm    0.006   \n",
      "40411       13.588554,101.286359      PM10    Air4Thai  g/m   37.000   \n",
      "40412       13.588554,101.286359        O3    Air4Thai  ppm    0.016   \n",
      "\n",
      "      Last Updated Country Label  \n",
      "2       2021-08-06         Spain  \n",
      "3       2021-08-06         Spain  \n",
      "4       2021-08-06         Spain  \n",
      "5       2021-08-06         Spain  \n",
      "6       2021-08-06         Spain  \n",
      "...            ...           ...  \n",
      "40408   2021-08-06      Thailand  \n",
      "40409   2021-08-06      Thailand  \n",
      "40410   2021-08-06      Thailand  \n",
      "40411   2021-08-06      Thailand  \n",
      "40412   2021-08-06      Thailand  \n",
      "\n",
      "[24287 rows x 10 columns]\n"
     ]
    }
   ],
   "source": [
    "from datetime import datetime\n",
    "from datetime import date\n",
    "from datetime import timezone\n",
    "\n",
    "def convert(date):\n",
    "    if date[0: 10] == \"2021-08-06\":\n",
    "        return \"2021-08-06\"\n",
    "    else:\n",
    "        return \"\"\n",
    "    \n",
    "# DONOVAN\n",
    "#df_air['Last Updated']=pd.to_datetime(df_air['Last Updated'], utc=True).dt.tz_convert(None)\n",
    "#df_air = df_air.loc[(df_air['Last Updated'] >= '2021-08-06 00:00:00') & (df_air['Last Updated'] < '2021-08-07 00:00:00')]\n",
    "\n",
    "#df_date = df_air['Last Updated'].apply(convert)\n",
    "df_air['Last Updated'] = df_air['Last Updated'].apply(convert)\n",
    "#no_date = df_air[(df_air['Last Updated'].str.contains(\"2021-08-06\"))]\n",
    "\n",
    "#no_date = df_air[df_air.stack().str.contains('|'.join(\"2021-08-06\")).any(level=0)]\n",
    "df_air = df_air[(df_air['Last Updated'] == \"2021-08-06\")]\n",
    "print(df_air)\n"
   ]
  },
  {
   "cell_type": "markdown",
   "metadata": {},
   "source": [
    "Voir l'ouverture du fichier en ascii pour le '2 - Supprimer les données qui sont illisibles et pour lesquelles on ne comprend pas la ville concernée.'"
   ]
  },
  {
   "cell_type": "code",
   "execution_count": 4,
   "metadata": {},
   "outputs": [
    {
     "name": "stdout",
     "output_type": "stream",
     "text": [
      "      Country Code              City                       Location  \\\n",
      "2               ES  Valencia/Valncia                        ES1885A   \n",
      "3               ES  Alicante/Alacant                        ES2008A   \n",
      "4               ES  Alicante/Alacant                        ES1968A   \n",
      "5               ES  Valencia/Valncia                        ES1911A   \n",
      "6               ES  Valencia/Valncia                        ES1185A   \n",
      "...            ...               ...                            ...   \n",
      "40408           TH           Bangkok              Din Dang, Bangkok   \n",
      "40409           TH      Samut Prakan        City Hall, Samut Prakan   \n",
      "40410           TH      Samut Prakan        City Hall, Samut Prakan   \n",
      "40411           TH      Chachoengsao  Municipality Office Tungsadao   \n",
      "40412           TH      Chachoengsao  Municipality Office Tungsadao   \n",
      "\n",
      "                     Coordinates Pollutant Source Name Unit    Value  \\\n",
      "2      39.4802777695,-0.33638888       SO2   EEA Spain  g/m    5.000   \n",
      "3            37.9911111095,-0.69     PM2.5   EEA Spain  g/m    9.000   \n",
      "4      38.3511111095,-0.51388888      PM10   EEA Spain  g/m    1.000   \n",
      "5      39.7052777695,-0.33666666        CO   EEA Spain  g/m  100.000   \n",
      "6      39.6672222195,-0.23472222      PM10   EEA Spain  g/m   13.000   \n",
      "...                          ...       ...         ...  ...      ...   \n",
      "40408      13.7619223,100.558606      PM10    Air4Thai  g/m   42.000   \n",
      "40409       13.599149,100.597345       SO2    Air4Thai  ppm    0.000   \n",
      "40410       13.599149,100.597345       NO2    Air4Thai  ppm    0.006   \n",
      "40411       13.588554,101.286359      PM10    Air4Thai  g/m   37.000   \n",
      "40412       13.588554,101.286359        O3    Air4Thai  ppm    0.016   \n",
      "\n",
      "      Last Updated Country Label  \n",
      "2       2021-08-06         Spain  \n",
      "3       2021-08-06         Spain  \n",
      "4       2021-08-06         Spain  \n",
      "5       2021-08-06         Spain  \n",
      "6       2021-08-06         Spain  \n",
      "...            ...           ...  \n",
      "40408   2021-08-06      Thailand  \n",
      "40409   2021-08-06      Thailand  \n",
      "40410   2021-08-06      Thailand  \n",
      "40411   2021-08-06      Thailand  \n",
      "40412   2021-08-06      Thailand  \n",
      "\n",
      "[13707 rows x 10 columns]\n"
     ]
    }
   ],
   "source": [
    "# des lignes seulement type String\n",
    "df_air =  df_air.loc[df_air['City'].apply(type) == str]\n",
    "\n",
    "# aucun chiffre\n",
    "df_air = df_air[~df_air['City'].str.contains('0|1|2|3|4|5|6|7|8|9')]\n",
    "\n",
    "df_air = df_air.dropna()\n",
    "\n",
    "print(df_air)"
   ]
  },
  {
   "cell_type": "markdown",
   "metadata": {},
   "source": [
    "3 - Pour chaque polluant, vérifier qu'on n'a qu'une seule mesure utilisée. Autrement, supprimer les données qui correspondent à la mesure minoritaire ou moins cohérente."
   ]
  },
  {
   "cell_type": "code",
   "execution_count": 5,
   "metadata": {},
   "outputs": [
    {
     "name": "stdout",
     "output_type": "stream",
     "text": [
      "gm\n"
     ]
    },
    {
     "name": "stderr",
     "output_type": "stream",
     "text": [
      "/home/alegarn/anaconda3/lib/python3.7/site-packages/ipykernel_launcher.py:2: UserWarning: Boolean Series key will be reindexed to match DataFrame index.\n",
      "  \n",
      "/home/alegarn/anaconda3/lib/python3.7/site-packages/ipykernel_launcher.py:6: UserWarning: Boolean Series key will be reindexed to match DataFrame index.\n",
      "  \n",
      "/home/alegarn/anaconda3/lib/python3.7/site-packages/ipykernel_launcher.py:10: UserWarning: Boolean Series key will be reindexed to match DataFrame index.\n",
      "  # Remove the CWD from sys.path while we load stuff.\n"
     ]
    }
   ],
   "source": [
    "def gm_count(unit):\n",
    "    unit = unit[df_air['Unit'].str.contains('g/m')]\n",
    "    return unit.count()\n",
    "\n",
    "def ppm_count(unit):\n",
    "    unit = unit[df_air['Unit'].str.contains('ppm')]\n",
    "    return unit.count()\n",
    "\n",
    "def µgm3_count(unit):\n",
    "    unit = unit[df_air['Unit'].str.contains('µg/m³')]\n",
    "    return unit.count()\n",
    "\n",
    "def best_unit(element):\n",
    "    e0 = gm_count(element)[0]\n",
    "    e1 = ppm_count(element)[0]\n",
    "    e2 = µgm3_count(element)[0]\n",
    "    if e0 > e1 & e0 > e2:\n",
    "        return \"gm\"\n",
    "    elif e1 > e0 & e1 > e2:\n",
    "        return \"ppm\"\n",
    "    else:\n",
    "        return \"µg/m³\"\n",
    "\n",
    "# où sont les mesures majoritaires pour chaque polluant?\n",
    "elements = df_air[['Pollutant', 'Unit', 'Value']]\n",
    "so2 = elements[df_air['Pollutant'].str.contains('SO2')]\n",
    "pm25 = elements[df_air['Pollutant'].str.contains('PM2.5')]\n",
    "o3 = elements[df_air['Pollutant'].str.contains('O3')]\n",
    "pm10 = elements[df_air['Pollutant'].str.contains('PM10')]\n",
    "no2 = elements[df_air['Pollutant'].str.contains('NO2')]\n",
    "\n",
    "\n",
    "print(best_unit(so2))\n",
    "\n",
    "# unitée qui est majoritaire on garde"
   ]
  },
  {
   "cell_type": "code",
   "execution_count": 6,
   "metadata": {},
   "outputs": [],
   "source": [
    "df_air.to_csv(\"openaq_half.csv\", index=False)"
   ]
  },
  {
   "cell_type": "code",
   "execution_count": null,
   "metadata": {},
   "outputs": [],
   "source": []
  }
 ],
 "metadata": {
  "kernelspec": {
   "display_name": "Python 3 (ipykernel)",
   "language": "python",
   "name": "python3"
  },
  "language_info": {
   "codemirror_mode": {
    "name": "ipython",
    "version": 3
   },
   "file_extension": ".py",
   "mimetype": "text/x-python",
   "name": "python",
   "nbconvert_exporter": "python",
   "pygments_lexer": "ipython3",
   "version": "3.7.0"
  }
 },
 "nbformat": 4,
 "nbformat_minor": 2
}
